{
 "cells": [
  {
   "cell_type": "markdown",
   "metadata": {},
   "source": [
    "# COMPUTATIONAL SCIENCE PROJECT"
   ]
  },
  {
   "cell_type": "markdown",
   "metadata": {},
   "source": [
    "# Enhancing Classical Nanoparticle Simulations with Electronic Corrections and Artificial Neural Networks."
   ]
  },
  {
   "cell_type": "code",
   "execution_count": 1,
   "metadata": {},
   "outputs": [],
   "source": [
    "%load_ext autoreload\n",
    "%autoreload 2"
   ]
  },
  {
   "cell_type": "markdown",
   "metadata": {},
   "source": [
    "This program utilises a number of machine learning methods implemented by the Scikit-Learn package.\n",
    "https://scikit-learn.org/stable/"
   ]
  },
  {
   "cell_type": "code",
   "execution_count": 2,
   "metadata": {},
   "outputs": [
    {
     "name": "stderr",
     "output_type": "stream",
     "text": [
      "C:\\ProgramData\\Anaconda3\\lib\\site-packages\\sklearn\\utils\\deprecation.py:143: FutureWarning: The sklearn.tree.export module is  deprecated in version 0.22 and will be removed in version 0.24. The corresponding classes / functions should instead be imported from sklearn.tree. Anything that cannot be imported from sklearn.tree is now part of the private API.\n",
      "  warnings.warn(message, FutureWarning)\n"
     ]
    }
   ],
   "source": [
    "import numpy as np\n",
    "import pandas as pd\n",
    "\n",
    "from standard_vis import *\n",
    "\n",
    "import seaborn as sns; sns.set()\n",
    "sns.set(color_codes=True)\n",
    "sns.set(font_scale=1.2)\n",
    "\n",
    "import os\n",
    "import time\n",
    "import matplotlib.pyplot as plt\n",
    "import sys\n",
    "import ast\n",
    "import multiprocessing as mp\n",
    "from copy import copy\n",
    "from numpy import arange\n",
    "from numpy import random\n",
    "\n",
    "from scipy.spatial.distance import cdist,pdist\n",
    "from scipy.stats import levene, pearsonr\n",
    "from scipy import stats\n",
    "from scipy.stats import uniform\n",
    "\n",
    "from matplotlib import cm\n",
    "from matplotlib import pyplot as plt\n",
    "\n",
    "from sklearn import utils\n",
    "from sklearn import preprocessing\n",
    "from sklearn.preprocessing import scale\n",
    "from sklearn.preprocessing import RobustScaler\n",
    "from sklearn.preprocessing import StandardScaler\n",
    "from sklearn.preprocessing import Normalizer\n",
    "\n",
    "from sklearn.metrics import confusion_matrix\n",
    "from sklearn.metrics import multilabel_confusion_matrix\n",
    "from sklearn.metrics import f1_score, accuracy_score, precision_score, recall_score\n",
    "from sklearn.metrics import r2_score, mean_squared_error, mean_absolute_error\n",
    "from sklearn.utils.multiclass import unique_labels\n",
    "\n",
    "from sklearn.model_selection import StratifiedKFold\n",
    "from sklearn.model_selection import ParameterSampler\n",
    "from sklearn.feature_selection import RFECV\n",
    "from sklearn.model_selection import RandomizedSearchCV\n",
    "from sklearn.model_selection import train_test_split\n",
    "from sklearn.model_selection import cross_val_score\n",
    "from sklearn.model_selection import KFold\n",
    "from sklearn.metrics import make_scorer\n",
    "from sklearn.model_selection import learning_curve\n",
    "\n",
    "#CLASSIFIERS\n",
    "from sklearn import tree\n",
    "from sklearn.tree import DecisionTreeClassifier\n",
    "from sklearn.neural_network import MLPClassifier\n",
    "from sklearn.tree.export import export_text\n",
    "from sklearn.metrics import classification_report\n",
    "\n",
    "import warnings\n",
    "warnings.filterwarnings('ignore')\n",
    "\n",
    "%matplotlib inline"
   ]
  },
  {
   "cell_type": "markdown",
   "metadata": {},
   "source": [
    "# Load the Data"
   ]
  },
  {
   "cell_type": "code",
   "execution_count": 3,
   "metadata": {},
   "outputs": [
    {
     "data": {
      "text/html": [
       "<div>\n",
       "<style scoped>\n",
       "    .dataframe tbody tr th:only-of-type {\n",
       "        vertical-align: middle;\n",
       "    }\n",
       "\n",
       "    .dataframe tbody tr th {\n",
       "        vertical-align: top;\n",
       "    }\n",
       "\n",
       "    .dataframe thead th {\n",
       "        text-align: right;\n",
       "    }\n",
       "</style>\n",
       "<table border=\"1\" class=\"dataframe\">\n",
       "  <thead>\n",
       "    <tr style=\"text-align: right;\">\n",
       "      <th></th>\n",
       "      <th>N_total</th>\n",
       "      <th>N_shell/N_total</th>\n",
       "      <th>R_max</th>\n",
       "      <th>R_avg</th>\n",
       "      <th>R_std</th>\n",
       "      <th>R_skew</th>\n",
       "      <th>R_kurt</th>\n",
       "      <th>CN_min</th>\n",
       "      <th>CN_avg</th>\n",
       "      <th>CN_std</th>\n",
       "      <th>...</th>\n",
       "      <th>ABA_avg</th>\n",
       "      <th>ABA_std</th>\n",
       "      <th>ABA_skew</th>\n",
       "      <th>BA_min</th>\n",
       "      <th>BA_max</th>\n",
       "      <th>BA_avg</th>\n",
       "      <th>BA_std</th>\n",
       "      <th>SBA_max</th>\n",
       "      <th>SBA_avg</th>\n",
       "      <th>SBA_std</th>\n",
       "    </tr>\n",
       "  </thead>\n",
       "  <tbody>\n",
       "    <tr>\n",
       "      <th>count</th>\n",
       "      <td>284.000000</td>\n",
       "      <td>284.000000</td>\n",
       "      <td>284.000000</td>\n",
       "      <td>284.000000</td>\n",
       "      <td>284.000000</td>\n",
       "      <td>284.000000</td>\n",
       "      <td>284.000000</td>\n",
       "      <td>284.000000</td>\n",
       "      <td>284.000000</td>\n",
       "      <td>284.000000</td>\n",
       "      <td>...</td>\n",
       "      <td>284.000000</td>\n",
       "      <td>284.000000</td>\n",
       "      <td>284.000000</td>\n",
       "      <td>284.000000</td>\n",
       "      <td>284.000000</td>\n",
       "      <td>284.000000</td>\n",
       "      <td>284.000000</td>\n",
       "      <td>284.000000</td>\n",
       "      <td>284.000000</td>\n",
       "      <td>284.000000</td>\n",
       "    </tr>\n",
       "    <tr>\n",
       "      <th>mean</th>\n",
       "      <td>630.658451</td>\n",
       "      <td>0.493737</td>\n",
       "      <td>16.178408</td>\n",
       "      <td>12.379082</td>\n",
       "      <td>1.425252</td>\n",
       "      <td>0.249665</td>\n",
       "      <td>-0.076445</td>\n",
       "      <td>4.140845</td>\n",
       "      <td>9.289648</td>\n",
       "      <td>2.027581</td>\n",
       "      <td>...</td>\n",
       "      <td>94.453633</td>\n",
       "      <td>4.546140</td>\n",
       "      <td>-1.489444</td>\n",
       "      <td>46.201426</td>\n",
       "      <td>179.718642</td>\n",
       "      <td>95.883292</td>\n",
       "      <td>34.310193</td>\n",
       "      <td>179.421020</td>\n",
       "      <td>92.500173</td>\n",
       "      <td>33.690448</td>\n",
       "    </tr>\n",
       "    <tr>\n",
       "      <th>std</th>\n",
       "      <td>230.863656</td>\n",
       "      <td>0.062088</td>\n",
       "      <td>3.192038</td>\n",
       "      <td>1.719876</td>\n",
       "      <td>0.768881</td>\n",
       "      <td>0.470275</td>\n",
       "      <td>1.290653</td>\n",
       "      <td>1.384373</td>\n",
       "      <td>0.812617</td>\n",
       "      <td>0.204524</td>\n",
       "      <td>...</td>\n",
       "      <td>0.642780</td>\n",
       "      <td>0.703678</td>\n",
       "      <td>0.324080</td>\n",
       "      <td>2.348440</td>\n",
       "      <td>0.270844</td>\n",
       "      <td>0.456833</td>\n",
       "      <td>0.685949</td>\n",
       "      <td>0.476239</td>\n",
       "      <td>0.595776</td>\n",
       "      <td>0.571362</td>\n",
       "    </tr>\n",
       "    <tr>\n",
       "      <th>min</th>\n",
       "      <td>236.000000</td>\n",
       "      <td>0.388330</td>\n",
       "      <td>9.665202</td>\n",
       "      <td>8.592114</td>\n",
       "      <td>0.485009</td>\n",
       "      <td>-0.771003</td>\n",
       "      <td>-1.424023</td>\n",
       "      <td>1.000000</td>\n",
       "      <td>7.191851</td>\n",
       "      <td>1.549891</td>\n",
       "      <td>...</td>\n",
       "      <td>91.809172</td>\n",
       "      <td>2.960429</td>\n",
       "      <td>-2.614211</td>\n",
       "      <td>38.696325</td>\n",
       "      <td>178.432356</td>\n",
       "      <td>93.780515</td>\n",
       "      <td>33.084558</td>\n",
       "      <td>177.200898</td>\n",
       "      <td>90.973333</td>\n",
       "      <td>32.488791</td>\n",
       "    </tr>\n",
       "    <tr>\n",
       "      <th>25%</th>\n",
       "      <td>438.750000</td>\n",
       "      <td>0.445095</td>\n",
       "      <td>14.066641</td>\n",
       "      <td>11.147761</td>\n",
       "      <td>0.860560</td>\n",
       "      <td>-0.047503</td>\n",
       "      <td>-0.698671</td>\n",
       "      <td>3.000000</td>\n",
       "      <td>8.596462</td>\n",
       "      <td>1.874227</td>\n",
       "      <td>...</td>\n",
       "      <td>94.062653</td>\n",
       "      <td>4.052686</td>\n",
       "      <td>-1.685696</td>\n",
       "      <td>45.079956</td>\n",
       "      <td>179.657873</td>\n",
       "      <td>95.549346</td>\n",
       "      <td>33.517871</td>\n",
       "      <td>179.259944</td>\n",
       "      <td>92.120192</td>\n",
       "      <td>33.250572</td>\n",
       "    </tr>\n",
       "    <tr>\n",
       "      <th>50%</th>\n",
       "      <td>598.000000</td>\n",
       "      <td>0.487849</td>\n",
       "      <td>16.144654</td>\n",
       "      <td>12.359336</td>\n",
       "      <td>1.157117</td>\n",
       "      <td>0.216507</td>\n",
       "      <td>-0.308612</td>\n",
       "      <td>4.000000</td>\n",
       "      <td>9.498588</td>\n",
       "      <td>2.011459</td>\n",
       "      <td>...</td>\n",
       "      <td>94.548696</td>\n",
       "      <td>4.539342</td>\n",
       "      <td>-1.483863</td>\n",
       "      <td>46.980238</td>\n",
       "      <td>179.809065</td>\n",
       "      <td>95.977161</td>\n",
       "      <td>34.610787</td>\n",
       "      <td>179.552941</td>\n",
       "      <td>92.515976</td>\n",
       "      <td>33.664868</td>\n",
       "    </tr>\n",
       "    <tr>\n",
       "      <th>75%</th>\n",
       "      <td>819.750000</td>\n",
       "      <td>0.535529</td>\n",
       "      <td>18.127391</td>\n",
       "      <td>13.753966</td>\n",
       "      <td>1.849234</td>\n",
       "      <td>0.501196</td>\n",
       "      <td>0.126800</td>\n",
       "      <td>5.000000</td>\n",
       "      <td>10.014101</td>\n",
       "      <td>2.195830</td>\n",
       "      <td>...</td>\n",
       "      <td>94.955922</td>\n",
       "      <td>5.002913</td>\n",
       "      <td>-1.288867</td>\n",
       "      <td>47.906385</td>\n",
       "      <td>179.896390</td>\n",
       "      <td>96.254189</td>\n",
       "      <td>34.903179</td>\n",
       "      <td>179.728773</td>\n",
       "      <td>92.886249</td>\n",
       "      <td>34.140185</td>\n",
       "    </tr>\n",
       "    <tr>\n",
       "      <th>max</th>\n",
       "      <td>1214.000000</td>\n",
       "      <td>0.736842</td>\n",
       "      <td>25.874050</td>\n",
       "      <td>16.031342</td>\n",
       "      <td>3.929259</td>\n",
       "      <td>2.532002</td>\n",
       "      <td>13.654322</td>\n",
       "      <td>6.000000</td>\n",
       "      <td>10.591549</td>\n",
       "      <td>2.442414</td>\n",
       "      <td>...</td>\n",
       "      <td>95.696520</td>\n",
       "      <td>6.332264</td>\n",
       "      <td>-0.323653</td>\n",
       "      <td>49.333752</td>\n",
       "      <td>179.994264</td>\n",
       "      <td>96.637302</td>\n",
       "      <td>35.238230</td>\n",
       "      <td>179.988261</td>\n",
       "      <td>94.560597</td>\n",
       "      <td>35.035268</td>\n",
       "    </tr>\n",
       "  </tbody>\n",
       "</table>\n",
       "<p>8 rows × 38 columns</p>\n",
       "</div>"
      ],
      "text/plain": [
       "           N_total  N_shell/N_total       R_max       R_avg       R_std  \\\n",
       "count   284.000000       284.000000  284.000000  284.000000  284.000000   \n",
       "mean    630.658451         0.493737   16.178408   12.379082    1.425252   \n",
       "std     230.863656         0.062088    3.192038    1.719876    0.768881   \n",
       "min     236.000000         0.388330    9.665202    8.592114    0.485009   \n",
       "25%     438.750000         0.445095   14.066641   11.147761    0.860560   \n",
       "50%     598.000000         0.487849   16.144654   12.359336    1.157117   \n",
       "75%     819.750000         0.535529   18.127391   13.753966    1.849234   \n",
       "max    1214.000000         0.736842   25.874050   16.031342    3.929259   \n",
       "\n",
       "           R_skew      R_kurt      CN_min      CN_avg      CN_std  ...  \\\n",
       "count  284.000000  284.000000  284.000000  284.000000  284.000000  ...   \n",
       "mean     0.249665   -0.076445    4.140845    9.289648    2.027581  ...   \n",
       "std      0.470275    1.290653    1.384373    0.812617    0.204524  ...   \n",
       "min     -0.771003   -1.424023    1.000000    7.191851    1.549891  ...   \n",
       "25%     -0.047503   -0.698671    3.000000    8.596462    1.874227  ...   \n",
       "50%      0.216507   -0.308612    4.000000    9.498588    2.011459  ...   \n",
       "75%      0.501196    0.126800    5.000000   10.014101    2.195830  ...   \n",
       "max      2.532002   13.654322    6.000000   10.591549    2.442414  ...   \n",
       "\n",
       "          ABA_avg     ABA_std    ABA_skew      BA_min      BA_max      BA_avg  \\\n",
       "count  284.000000  284.000000  284.000000  284.000000  284.000000  284.000000   \n",
       "mean    94.453633    4.546140   -1.489444   46.201426  179.718642   95.883292   \n",
       "std      0.642780    0.703678    0.324080    2.348440    0.270844    0.456833   \n",
       "min     91.809172    2.960429   -2.614211   38.696325  178.432356   93.780515   \n",
       "25%     94.062653    4.052686   -1.685696   45.079956  179.657873   95.549346   \n",
       "50%     94.548696    4.539342   -1.483863   46.980238  179.809065   95.977161   \n",
       "75%     94.955922    5.002913   -1.288867   47.906385  179.896390   96.254189   \n",
       "max     95.696520    6.332264   -0.323653   49.333752  179.994264   96.637302   \n",
       "\n",
       "           BA_std     SBA_max     SBA_avg     SBA_std  \n",
       "count  284.000000  284.000000  284.000000  284.000000  \n",
       "mean    34.310193  179.421020   92.500173   33.690448  \n",
       "std      0.685949    0.476239    0.595776    0.571362  \n",
       "min     33.084558  177.200898   90.973333   32.488791  \n",
       "25%     33.517871  179.259944   92.120192   33.250572  \n",
       "50%     34.610787  179.552941   92.515976   33.664868  \n",
       "75%     34.903179  179.728773   92.886249   34.140185  \n",
       "max     35.238230  179.988261   94.560597   35.035268  \n",
       "\n",
       "[8 rows x 38 columns]"
      ]
     },
     "execution_count": 3,
     "metadata": {},
     "output_type": "execute_result"
    }
   ],
   "source": [
    "X_df = pd.read_csv('../data/extracted_features.csv')\n",
    "\n",
    "# Select training features by dropping excess target labels and other unused features\n",
    "X_features = X_df.drop(['ID','Mermin_E', 'Delta_E', 'Delta_E/N', 'Fermi_L', 'CN_max', 'Classical_E/N', 'Classical_E', 'CLASS'], axis=1)\n",
    "\n",
    "target_label = 'CLASS'\n",
    "y_label = X_df[target_label]\n",
    "\n",
    "X_feats = X_features.drop([\n",
    "    # N_total kept as it improves results\n",
    "    'R_min', # for correlation with N_shell/N_total\n",
    "    'SCN_min', # for correlation with CN_min\n",
    "    'SCN_avg', 'ABL_avg', 'BL_avg', # for correlation with CN_avg\n",
    "    'ABL_avg', # For correlation with BL_avg\n",
    "    'SBL_min', 'SBL_max', 'SBL_avg', 'SBL_std', 'SBL_skew', 'SBL_kurt', # for correlation with BL\n",
    "    'ABA_kurt', # For correlation with ABA_skew\n",
    "    'BA_kurt', # For correlation with BA_std and BA_skew\n",
    "    'SBA_min', # For correlation with BA_min\n",
    "    'BA_skew', # for correlation with SBA_kurt\n",
    "    'SBA_skew', 'SBA_kurt' # For correlation with BA_skew, BA_kurt etc\n",
    "], axis=1)\n",
    "\n",
    "X_feats.describe()"
   ]
  },
  {
   "cell_type": "code",
   "execution_count": 4,
   "metadata": {},
   "outputs": [],
   "source": [
    "X_scaled = RobustScaler().fit_transform(X_feats)\n",
    "y_label = np.array(y_label).reshape(-1,1)"
   ]
  },
  {
   "cell_type": "code",
   "execution_count": 5,
   "metadata": {},
   "outputs": [],
   "source": [
    "y_class = X_df['CLASS']"
   ]
  },
  {
   "cell_type": "code",
   "execution_count": 6,
   "metadata": {},
   "outputs": [
    {
     "name": "stdout",
     "output_type": "stream",
     "text": [
      "Class 1: 103, Class 2: 181\n"
     ]
    }
   ],
   "source": [
    "X1 = X_feats[y_class == 0]\n",
    "X2 = X_feats[y_class == 1]\n",
    "print(f'Class 1: {len(X1)}, Class 2: {len(X2)}')"
   ]
  },
  {
   "cell_type": "code",
   "execution_count": 7,
   "metadata": {},
   "outputs": [],
   "source": [
    "X1['Classical_E'] = (X_df['Classical_E'][y_class == 0]).values\n",
    "X2['Classical_E'] = (X_df['Classical_E'][y_class == 1]).values"
   ]
  },
  {
   "cell_type": "code",
   "execution_count": 8,
   "metadata": {},
   "outputs": [
    {
     "data": {
      "image/png": "[encoded data removed]",
      "text/plain": [
       "<Figure size 432x288 with 1 Axes>"
      ]
     },
     "metadata": {
      "needs_background": "light"
     },
     "output_type": "display_data"
    }
   ],
   "source": [
    "plt.figure(figsize=(6,4))\n",
    "plt.hist(X1['Classical_E'], bins=20, alpha = 0.6, label='Class 1')\n",
    "plt.hist(X2['Classical_E'], bins=18, alpha = 0.6, label='Class 2')\n",
    "plt.legend(loc='upper left')\n",
    "plt.xlabel('Total Energy (LAMMPS), eV')\n",
    "plt.ylabel('Counts')\n",
    "plt.tight_layout()\n",
    "plt.show()"
   ]
  },
  {
   "cell_type": "markdown",
   "metadata": {},
   "source": [
    "## Splitting the testing set and training set"
   ]
  },
  {
   "cell_type": "code",
   "execution_count": 9,
   "metadata": {},
   "outputs": [],
   "source": [
    "X_train, X_test, y_train, y_test = train_test_split(X_scaled, y_class, test_size=0.20, random_state=42)"
   ]
  },
  {
   "cell_type": "markdown",
   "metadata": {},
   "source": [
    "## Decision Tree Classifier"
   ]
  },
  {
   "cell_type": "code",
   "execution_count": 10,
   "metadata": {},
   "outputs": [
    {
     "name": "stdout",
     "output_type": "stream",
     "text": [
      "Training time: 182.43345141410828s\n"
     ]
    },
    {
     "data": {
      "text/plain": [
       "{'ccp_alpha': 0.01,\n",
       " 'criterion': 'entropy',\n",
       " 'max_depth': 10,\n",
       " 'max_features': None,\n",
       " 'min_samples_leaf': 3,\n",
       " 'min_samples_split': 2,\n",
       " 'splitter': 'random'}"
      ]
     },
     "execution_count": 10,
     "metadata": {},
     "output_type": "execute_result"
    }
   ],
   "source": [
    "param_dist = dict(splitter=['best','random'],\n",
    "                  max_features=[None, 'auto','sqrt','log2'],\n",
    "                  min_samples_split=stats.randint(2, 20),\n",
    "                  min_samples_leaf=stats.randint(2, 20),\n",
    "                  max_depth=stats.randint(1, 15),\n",
    "                  criterion=['gini','entropy'],\n",
    "                  ccp_alpha=[0,0.0001,0.001,0.01]\n",
    "                 )\n",
    "\n",
    "model = DecisionTreeClassifier(random_state=42, max_leaf_nodes=None)\n",
    "\n",
    "start = time.time()\n",
    "clf = RandomizedSearchCV(model, param_dist, cv=10, n_iter=5000, random_state=42)\n",
    "clf.fit(X_train, y_train)\n",
    "stop = time.time()\n",
    "\n",
    "print(f\"Training time: {stop - start}s\")\n",
    "\n",
    "clf.best_params_\n"
   ]
  },
  {
   "cell_type": "code",
   "execution_count": 11,
   "metadata": {},
   "outputs": [
    {
     "name": "stdout",
     "output_type": "stream",
     "text": [
      "Training score: 0.995595\n",
      "CV Scores: [0.956522 0.956522 1.       0.913043 1.       0.956522 1.       1.\n",
      " 1.       1.      ]\n",
      "Accuracy: 0.978261 +/- 0.058332\n",
      "Testing score: 0.964912\n",
      "Training time: 0.03790688514709473s\n"
     ]
    }
   ],
   "source": [
    "model_DTC = tree.DecisionTreeClassifier(splitter='random',criterion='entropy', min_samples_leaf=3, min_samples_split=2, \n",
    "                                        max_features=None, max_depth=10,ccp_alpha=0.01, random_state=42)\n",
    "\n",
    "\n",
    "start = time.time()\n",
    "model_DTC.fit(X_train, y_train)\n",
    "\n",
    "cv_scores = cross_val_score(model_DTC, X_train, y_train, cv=10)   \n",
    "accuracy = np.mean(cv_scores)\n",
    "uncertainty = np.std(cv_scores)*2\n",
    "training_score = model_DTC.score(X_train, y_train)\n",
    "testing_score = model_DTC.score(X_test, y_test)\n",
    "stop = time.time()\n",
    "\n",
    "print('Training score:', np.round(training_score, 6))\n",
    "print('CV Scores:', np.round(cv_scores, 6))\n",
    "print('Accuracy:',np.round(accuracy, 6),'+/-',np.round(uncertainty, 6))\n",
    "print('Testing score:', np.round(testing_score, 6))\n",
    "print(f\"Training time: {stop - start}s\")"
   ]
  },
  {
   "cell_type": "markdown",
   "metadata": {},
   "source": [
    "## Classification report"
   ]
  },
  {
   "cell_type": "code",
   "execution_count": 12,
   "metadata": {},
   "outputs": [
    {
     "name": "stdout",
     "output_type": "stream",
     "text": [
      "              precision    recall  f1-score   support\n",
      "\n",
      "     Class 1       0.96      0.96      0.96        23\n",
      "     Class 2       0.97      0.97      0.97        34\n",
      "\n",
      "    accuracy                           0.96        57\n",
      "   macro avg       0.96      0.96      0.96        57\n",
      "weighted avg       0.96      0.96      0.96        57\n",
      "\n"
     ]
    }
   ],
   "source": [
    "y_pred = model_DTC.predict(X_test)\n",
    "\n",
    "cm = multilabel_confusion_matrix(y_test, y_pred)\n",
    "\n",
    "target_names = ['Class 1','Class 2']\n",
    "print(classification_report(y_test, y_pred, target_names=target_names))"
   ]
  },
  {
   "cell_type": "markdown",
   "metadata": {},
   "source": [
    "### Confusion Matrix\n"
   ]
  },
  {
   "cell_type": "code",
   "execution_count": 13,
   "metadata": {},
   "outputs": [
    {
     "data": {
      "text/plain": [
       "<Figure size 1440x1440 with 0 Axes>"
      ]
     },
     "metadata": {},
     "output_type": "display_data"
    },
    {
     "data": {
      "image/png": "[encoded data removed]",
      "text/plain": [
       "<Figure size 432x288 with 2 Axes>"
      ]
     },
     "metadata": {
      "needs_background": "light"
     },
     "output_type": "display_data"
    }
   ],
   "source": [
    "plot_confusion_matrix_(\n",
    "    y_test, \n",
    "    y_pred, \n",
    "    np.array(['Class 1','Class 2']), \n",
    "    normalize=True, \n",
    "    cmap=plt.cm.Blues\n",
    ")\n",
    "\n",
    "plt.tight_layout()\n",
    "plt.savefig(\"images/classifier-decision_tree_prediction_confusion_matrix.jpg\", dpi=600, bbox_inches='tight')\n",
    "plt.show()"
   ]
  },
  {
   "cell_type": "markdown",
   "metadata": {},
   "source": [
    "## Learning curve"
   ]
  },
  {
   "cell_type": "code",
   "execution_count": 14,
   "metadata": {},
   "outputs": [
    {
     "name": "stdout",
     "output_type": "stream",
     "text": [
      "Training time: 7.842131614685059s\n"
     ]
    },
    {
     "data": {
      "image/png": "[encoded data removed]",
      "text/plain": [
       "<Figure size 432x288 with 1 Axes>"
      ]
     },
     "metadata": {
      "needs_background": "light"
     },
     "output_type": "display_data"
    }
   ],
   "source": [
    "title = \"Learning Curves (Decision Tree Classifier)\"\n",
    "estimator = model_DTC\n",
    "\n",
    "start= time.time()\n",
    "plot_learning_curve(estimator, title, X_train, y_train, \\\n",
    "                    ylim=(0.5, 1.005), cv=10, n_jobs=-1, train_sizes=np.linspace(0.1, 1.0, 10))\n",
    "stop = time.time()\n",
    "print(f\"Training time: {stop - start}s\")\n",
    "plt.savefig(\"images/classifier-decision_tree_learning_curve.jpg\", dpi=600, bbox_inches='tight')\n",
    "plt.show()"
   ]
  },
  {
   "cell_type": "markdown",
   "metadata": {},
   "source": [
    "### Feature importance profile"
   ]
  },
  {
   "cell_type": "code",
   "execution_count": 15,
   "metadata": {},
   "outputs": [
    {
     "data": {
      "image/png": "[encoded data removed]",
      "text/plain": [
       "<Figure size 576x288 with 1 Axes>"
      ]
     },
     "metadata": {
      "needs_background": "light"
     },
     "output_type": "display_data"
    },
    {
     "name": "stdout",
     "output_type": "stream",
     "text": [
      "The important features are: ['CN_min', 'BA_std', 'BL_min', 'R_std', 'SCN_std']\n"
     ]
    }
   ],
   "source": [
    "X_feats.columns =(list(X_feats.columns.values) )\n",
    "plot_feature_importance(\n",
    "    X_feats.columns, \n",
    "    model_DTC.feature_importances_,\n",
    "    show_cols = 42\n",
    ")\n",
    "plt.tight_layout()\n",
    "plt.subplots_adjust(bottom=0.2)\n",
    "plt.savefig(\"images/classifier-feature_importance_profile\", dpi=600, bbox_inches='tight')\n",
    "plt.show()\n",
    "important_features = get_important_features(X_feats.columns, model_DTC.feature_importances_, cutoff = 0)\n",
    "print(\"The important features are:\",important_features)"
   ]
  },
  {
   "cell_type": "code",
   "execution_count": 16,
   "metadata": {
    "scrolled": true
   },
   "outputs": [
    {
     "data": {
      "text/plain": [
       "'images\\\\classifier-decision-tree.png'"
      ]
     },
     "execution_count": 16,
     "metadata": {},
     "output_type": "execute_result"
    }
   ],
   "source": [
    "import graphviz \n",
    "import pydotplus\n",
    "import collections\n",
    "import os\n",
    "os.environ[\"PATH\"] += os.pathsep + 'C:/Program Files (x86)/Graphviz2.38/bin/'\n",
    "\n",
    "dot_data = tree.export_graphviz(model_DTC, out_file=None, \n",
    "                                feature_names=X_feats.columns, \n",
    "                                filled=True, rounded=True, special_characters=True)  \n",
    "\n",
    "graph = graphviz.Source(dot_data) \n",
    "graph.render(\"images/classifier-decision-tree\", format='png') "
   ]
  },
  {
   "cell_type": "markdown",
   "metadata": {},
   "source": [
    "## ANN Classifier"
   ]
  },
  {
   "cell_type": "markdown",
   "metadata": {},
   "source": [
    "Now we will train an artificial neural network (ANN).  We will use a Multilayer Perceptron.  "
   ]
  },
  {
   "cell_type": "code",
   "execution_count": 17,
   "metadata": {},
   "outputs": [],
   "source": [
    "important_headers = important_features\n",
    "Reduced_X_feats = X_feats [important_headers]\n",
    "X_train, X_test, y_train, y_test = train_test_split(Reduced_X_feats, y_label, test_size=0.25, random_state=42)\n",
    "X_train = np.array(X_train)"
   ]
  },
  {
   "cell_type": "code",
   "execution_count": 18,
   "metadata": {},
   "outputs": [
    {
     "name": "stdout",
     "output_type": "stream",
     "text": [
      "Training time: 1261.763188123703s\n"
     ]
    },
    {
     "data": {
      "text/plain": [
       "{'activation': 'identity',\n",
       " 'alpha': 0.01,\n",
       " 'hidden_layer_sizes': (8, 5),\n",
       " 'learning_rate': 'invscaling',\n",
       " 'max_iter': 294,\n",
       " 'solver': 'lbfgs'}"
      ]
     },
     "execution_count": 18,
     "metadata": {},
     "output_type": "execute_result"
    }
   ],
   "source": [
    "param_dist = dict(activation=[\"identity\", \"tanh\", \"relu\", \"logistic\"],\n",
    "                  alpha=np.logspace(-2, 2, num=10, base=10),\n",
    "                  learning_rate=[\"adaptive\",\"invscaling\",\"constant\"],\n",
    "                  solver=[ \"sgd\", \"adam\", \"lbfgs\"],\n",
    "                  max_iter=stats.randint(50, 500),\n",
    "                  hidden_layer_sizes=[(),(1,),(2,),(3,),(4,),(5,),(6,),(7,),(8,),(9,),(10,),(3,2),(4,2,),(5,2,),(6,2,),(7,2,),\n",
    "                                      (8,2,),(9,2,),(10,2,),(4,3,),(5,3,),(6,3,),(7,3,),(8,3,),(9,3,),(10,3,),\n",
    "                                      (5,4,),(6,4,),(7,4,),(8,4,),(9,4,),(10,4,),(6,5,),(7,5,),(8,5,),(9,5,),(10,5,),\n",
    "                                      (7,6,),(8,6,),(9,6,),(10,6,),(8,7,),(9,7,),(10,7,),(9,8,),(10,8,),(10,9,),\n",
    "                                      (4,3,2),(5,3,2),(6,3,2),(7,3,2),(8,3,2),(9,3,2),(10,3,2),(5,4,2),(6,4,2),(7,4,2),\n",
    "                                      (8,4,2),(9,4,2),(10,4,2),(6,5,2),(7,5,2),(8,5,2),(9,5,2),(10,5,2),(5,4,3),(6,4,3),\n",
    "                                      (7,4,3),(8,4,3),(9,4,3),(10,4,3),(6,5,3),(7,5,3),(8,5,3),(9,5,3),(10,5,3), \n",
    "                                      (6,6,2),(7,6,2),(8,6,2),(9,6,2),(10,6,2),(8,7,2),(9,7,2),(10,7,2),\n",
    "                                      (9,8,2),(10,8,2),(10,9,2),(7,6,3),(8,6,3),(9,6,3),(10,6,3),(8,7,3),\n",
    "                                      (9,7,3),(10,7,3),(9,8,3),(10,8,3),(10,9,3),(7,6,4),(8,6,4),(9,6,4),\n",
    "                                      (10,6,4),(8,7,4),(9,7,4),(10,7,4),(9,8,4),(10,8,4),(10,9,4)]\n",
    "                 )\n",
    "                  \n",
    "model = MLPClassifier(early_stopping=True, random_state=42) # activation='identity'\n",
    "\n",
    "start=time.time()\n",
    "ann = RandomizedSearchCV(model, param_dist, cv=10, n_iter=1000, random_state=42)\n",
    "ann.fit(X_train, y_train)\n",
    "stop=time.time()\n",
    "\n",
    "print(f\"Training time: {stop - start}s\")\n",
    "ann.best_params_\n"
   ]
  },
  {
   "cell_type": "code",
   "execution_count": 19,
   "metadata": {},
   "outputs": [
    {
     "name": "stdout",
     "output_type": "stream",
     "text": [
      "With optimal hyperparameters:\n",
      "Training score: 0.967136\n",
      "CV Scores: [1. 1. 1. 1. 1. 1. 1. 1. 1. 1.]\n",
      "Accuracy: 1.0 +/- 0.0\n",
      "Testing score: 0.929577\n",
      "Training time: 2.5998613834381104s\n",
      "\n",
      "With no hidden layers:\n",
      "Training score: 1.0\n",
      "CV Scores: [0.954545 1.       1.       1.       1.       1.       1.       1.\n",
      " 1.       0.952381]\n",
      "Accuracy: 0.990693 +/- 0.037242\n",
      "Testing score: 0.971831\n",
      "Training time: 0.3341069221496582s\n"
     ]
    }
   ],
   "source": [
    "model_MLC = MLPClassifier(activation='identity', alpha=0.01, hidden_layer_sizes=(8, 5),\n",
    "                                   learning_rate='invscaling',max_iter=294,solver='lbfgs', random_state=42)\n",
    "model_MLC_no_hidden_layers = MLPClassifier(activation='identity', alpha=0.01, hidden_layer_sizes=(),\n",
    "                                   learning_rate='invscaling',max_iter=294,solver='lbfgs', random_state=42)\n",
    "\n",
    "start=time.time()\n",
    "model_MLC.fit(X_train, y_train)\n",
    "\n",
    "cv_scores = cross_val_score(model_MLC, X_train, y_train, cv=10)   \n",
    "accuracy = np.mean(cv_scores)\n",
    "uncertainty = np.std(cv_scores)*2\n",
    "training_score = model_MLC.score(X_train, y_train)\n",
    "testing_score = model_MLC.score(X_test, y_test)\n",
    "stop = time.time()\n",
    "\n",
    "print('With optimal hyperparameters:')\n",
    "print('Training score:', np.round(training_score, 6))\n",
    "print('CV Scores:', np.round(cv_scores, 6))\n",
    "print('Accuracy:',np.round(accuracy, 6),'+/-',np.round(uncertainty, 6))\n",
    "print('Testing score:', np.round(testing_score, 6))\n",
    "print(f\"Training time: {stop - start}s\")\n",
    "\n",
    "start=time.time()\n",
    "model_MLC_no_hidden_layers.fit(X_train, y_train)\n",
    "\n",
    "cv_scores = cross_val_score(model_MLC_no_hidden_layers, X_train, y_train, cv=10)   \n",
    "accuracy = np.mean(cv_scores)\n",
    "uncertainty = np.std(cv_scores)*2\n",
    "training_score = model_MLC_no_hidden_layers.score(X_train, y_train)\n",
    "testing_score = model_MLC_no_hidden_layers.score(X_test, y_test)\n",
    "stop = time.time()\n",
    "\n",
    "print('\\nWith no hidden layers:')\n",
    "print('Training score:', np.round(training_score, 6))\n",
    "print('CV Scores:', np.round(cv_scores, 6))\n",
    "print('Accuracy:',np.round(accuracy, 6),'+/-',np.round(uncertainty, 6))\n",
    "print('Testing score:', np.round(testing_score, 6))\n",
    "print(f\"Training time: {stop - start}s\")"
   ]
  },
  {
   "cell_type": "markdown",
   "metadata": {},
   "source": [
    "## Classification report and confusion matrix"
   ]
  },
  {
   "cell_type": "code",
   "execution_count": 20,
   "metadata": {},
   "outputs": [
    {
     "name": "stdout",
     "output_type": "stream",
     "text": [
      "              precision    recall  f1-score   support\n",
      "\n",
      "     Kinetic       1.00      0.93      0.96        28\n",
      "      Thermo       0.96      1.00      0.98        43\n",
      "\n",
      "    accuracy                           0.97        71\n",
      "   macro avg       0.98      0.96      0.97        71\n",
      "weighted avg       0.97      0.97      0.97        71\n",
      "\n"
     ]
    }
   ],
   "source": [
    "y_pred = model_MLC_no_hidden_layers.predict(X_test)\n",
    "\n",
    "cm = confusion_matrix(y_test, y_pred)\n",
    "\n",
    "target_names = ['Kinetic','Thermo']\n",
    "print(classification_report(y_test, y_pred, target_names=target_names))"
   ]
  },
  {
   "cell_type": "code",
   "execution_count": 21,
   "metadata": {},
   "outputs": [
    {
     "data": {
      "text/plain": [
       "<Figure size 1440x1440 with 0 Axes>"
      ]
     },
     "metadata": {},
     "output_type": "display_data"
    },
    {
     "data": {
      "image/png": "[encoded data removed]",
      "text/plain": [
       "<Figure size 432x288 with 2 Axes>"
      ]
     },
     "metadata": {},
     "output_type": "display_data"
    }
   ],
   "source": [
    "sns.set(font_scale=1.2)\n",
    "\n",
    "plot_confusion_matrix_(\n",
    "    y_test, \n",
    "    y_pred, \n",
    "    np.array(['Kinetic','Thermo']), \n",
    "    normalize=True, \n",
    "   title='', \n",
    "    #cmap=plt.cm.Blues\n",
    ")\n",
    "\n",
    "plt.tight_layout()\n",
    "plt.grid(False)\n",
    "\n",
    "plt.savefig(\"images/classifier-MLP_prediction_confusion_matrix.jpg\", dpi=600, bbox_inches='tight')\n",
    "plt.show()"
   ]
  },
  {
   "cell_type": "code",
   "execution_count": 22,
   "metadata": {},
   "outputs": [],
   "source": [
    "## Learning curve"
   ]
  },
  {
   "cell_type": "code",
   "execution_count": 23,
   "metadata": {},
   "outputs": [
    {
     "name": "stdout",
     "output_type": "stream",
     "text": [
      "Training time: 7.317533254623413s\n"
     ]
    },
    {
     "data": {
      "image/png": "[encoded data removed]",
      "text/plain": [
       "<Figure size 432x288 with 1 Axes>"
      ]
     },
     "metadata": {},
     "output_type": "display_data"
    }
   ],
   "source": [
    "title = \"\"\n",
    "estimator = model_MLC_no_hidden_layers\n",
    "\n",
    "start= time.time()\n",
    "plot_learning_curve(estimator, title, X_train, y_train, \\\n",
    "                    ylim=(0.5, 1.005), cv=10, n_jobs=-1, train_sizes=np.linspace(0.1, 1.0, 10))\n",
    "stop = time.time()\n",
    "print(f\"Training time: {stop - start}s\")\n",
    "plt.savefig(f'images/classifier-LearningCurve_MLP.png', dpi = 600, bbox_inches='tight')\n",
    "plt.show()"
   ]
  },
  {
   "cell_type": "markdown",
   "metadata": {},
   "source": [
    "## Weights and biases"
   ]
  },
  {
   "cell_type": "code",
   "execution_count": 24,
   "metadata": {},
   "outputs": [
    {
     "name": "stdout",
     "output_type": "stream",
     "text": [
      "Weights\n",
      "0 0 [ 3.1444785  10.51474932  7.51450935 -4.59918187 -7.85848774], \n",
      "\n",
      "Biases\n",
      "[-371.87924647]\n",
      "\n"
     ]
    }
   ],
   "source": [
    "print (\"Weights\")\n",
    "for i in range(len(model_MLC_no_hidden_layers.coefs_)):\n",
    "    number_neurons_in_layer = model_MLC_no_hidden_layers.coefs_[i].shape[1]\n",
    "    for j in range(number_neurons_in_layer):\n",
    "        weights = model_MLC_no_hidden_layers.coefs_[i][:,j]\n",
    "        print(i, j, weights, end=\", \")\n",
    "        print()\n",
    "    print()\n",
    "\n",
    "print (\"Biases\")\n",
    "for i in range(len(model_MLC_no_hidden_layers.coefs_)):\n",
    "    print(model_MLC_no_hidden_layers.intercepts_[i])\n",
    "    print()"
   ]
  }
 ],
 "metadata": {
  "kernelspec": {
   "display_name": "Python 3",
   "language": "python",
   "name": "python3"
  },
  "language_info": {
   "codemirror_mode": {
    "name": "ipython",
    "version": 3
   },
   "file_extension": ".py",
   "mimetype": "text/x-python",
   "name": "python",
   "nbconvert_exporter": "python",
   "pygments_lexer": "ipython3",
   "version": "3.7.3"
  }
 },
 "nbformat": 4,
 "nbformat_minor": 2
}
