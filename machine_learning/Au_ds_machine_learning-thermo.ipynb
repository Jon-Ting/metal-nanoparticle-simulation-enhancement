{
 "cells": [
  {
   "cell_type": "markdown",
   "metadata": {},
   "source": [
    "# COMPUTATIONAL SCIENCE PROJECT"
   ]
  },
  {
   "cell_type": "markdown",
   "metadata": {},
   "source": [
    "# Enhancing Classical Nanoparticle Simulations with Electronic Corrections and Artificial Neural Networks."
   ]
  },
  {
   "cell_type": "markdown",
   "metadata": {},
   "source": [
    "This program utilises a number of machine learning methods implemented by the Scikit-Learn package.\n",
    "https://scikit-learn.org/stable/"
   ]
  },
  {
   "cell_type": "code",
   "execution_count": 1,
   "metadata": {},
   "outputs": [],
   "source": [
    "%load_ext autoreload\n",
    "%autoreload 2\n",
    "\n",
    "import numpy as np\n",
    "import pandas as pd\n",
    "\n",
    "from standard_vis import *\n",
    "\n",
    "import seaborn as sns; sns.set()\n",
    "sns.set(color_codes=True)\n",
    "sns.set(font_scale=1.2)\n",
    "\n",
    "import os\n",
    "import time\n",
    "import matplotlib.pyplot as plt\n",
    "import sys\n",
    "import ast\n",
    "import multiprocessing as mp\n",
    "from copy import copy\n",
    "from numpy import arange\n",
    "from numpy import random\n",
    "\n",
    "from scipy.spatial.distance import cdist,pdist\n",
    "from scipy.stats import levene, pearsonr\n",
    "from scipy import stats\n",
    "from scipy.stats import uniform\n",
    "\n",
    "from matplotlib import cm\n",
    "from matplotlib import pyplot as plt\n",
    "\n",
    "from sklearn import utils\n",
    "from sklearn import preprocessing\n",
    "from sklearn.preprocessing import scale\n",
    "from sklearn.preprocessing import RobustScaler\n",
    "from sklearn.preprocessing import StandardScaler\n",
    "from sklearn.preprocessing import Normalizer\n",
    "from sklearn.metrics import r2_score, mean_squared_error, mean_absolute_error\n",
    "\n",
    "from sklearn.model_selection import StratifiedKFold\n",
    "from sklearn.model_selection import ParameterSampler\n",
    "from sklearn.feature_selection import RFECV\n",
    "from sklearn.model_selection import GridSearchCV\n",
    "from sklearn.model_selection import RandomizedSearchCV\n",
    "from sklearn.model_selection import train_test_split\n",
    "from sklearn.model_selection import cross_val_score\n",
    "from sklearn.model_selection import KFold\n",
    "from sklearn.metrics import make_scorer\n",
    "from sklearn.model_selection import learning_curve\n",
    "from sklearn.datasets import make_regression\n",
    "\n",
    "import graphviz \n",
    "import pydotplus\n",
    "import collections\n",
    "\n",
    "\n",
    "#REGRESSORS\n",
    "from sklearn import tree\n",
    "from sklearn.tree import DecisionTreeRegressor\n",
    "from sklearn.neural_network import MLPRegressor\n",
    "from sklearn.linear_model import LinearRegression\n",
    "\n",
    "import warnings\n",
    "warnings.filterwarnings('ignore')\n",
    "\n",
    "%matplotlib inline"
   ]
  },
  {
   "cell_type": "markdown",
   "metadata": {},
   "source": [
    "# Load the Data"
   ]
  },
  {
   "cell_type": "code",
   "execution_count": 2,
   "metadata": {},
   "outputs": [
    {
     "data": {
      "text/html": [
       "<div>\n",
       "<style scoped>\n",
       "    .dataframe tbody tr th:only-of-type {\n",
       "        vertical-align: middle;\n",
       "    }\n",
       "\n",
       "    .dataframe tbody tr th {\n",
       "        vertical-align: top;\n",
       "    }\n",
       "\n",
       "    .dataframe thead th {\n",
       "        text-align: right;\n",
       "    }\n",
       "</style>\n",
       "<table border=\"1\" class=\"dataframe\">\n",
       "  <thead>\n",
       "    <tr style=\"text-align: right;\">\n",
       "      <th></th>\n",
       "      <th>N_total</th>\n",
       "      <th>N_shell/N_total</th>\n",
       "      <th>R_max</th>\n",
       "      <th>R_avg</th>\n",
       "      <th>R_std</th>\n",
       "      <th>R_skew</th>\n",
       "      <th>R_kurt</th>\n",
       "      <th>CN_min</th>\n",
       "      <th>CN_avg</th>\n",
       "      <th>CN_std</th>\n",
       "      <th>...</th>\n",
       "      <th>ABA_avg</th>\n",
       "      <th>ABA_std</th>\n",
       "      <th>ABA_skew</th>\n",
       "      <th>BA_min</th>\n",
       "      <th>BA_max</th>\n",
       "      <th>BA_avg</th>\n",
       "      <th>BA_std</th>\n",
       "      <th>SBA_max</th>\n",
       "      <th>SBA_avg</th>\n",
       "      <th>SBA_std</th>\n",
       "    </tr>\n",
       "  </thead>\n",
       "  <tbody>\n",
       "    <tr>\n",
       "      <th>count</th>\n",
       "      <td>181.000000</td>\n",
       "      <td>181.000000</td>\n",
       "      <td>181.000000</td>\n",
       "      <td>181.000000</td>\n",
       "      <td>181.000000</td>\n",
       "      <td>181.000000</td>\n",
       "      <td>181.000000</td>\n",
       "      <td>181.000000</td>\n",
       "      <td>181.000000</td>\n",
       "      <td>181.000000</td>\n",
       "      <td>...</td>\n",
       "      <td>181.000000</td>\n",
       "      <td>181.000000</td>\n",
       "      <td>181.000000</td>\n",
       "      <td>181.000000</td>\n",
       "      <td>181.000000</td>\n",
       "      <td>181.000000</td>\n",
       "      <td>181.000000</td>\n",
       "      <td>181.000000</td>\n",
       "      <td>181.000000</td>\n",
       "      <td>181.000000</td>\n",
       "    </tr>\n",
       "    <tr>\n",
       "      <th>mean</th>\n",
       "      <td>608.602210</td>\n",
       "      <td>0.486097</td>\n",
       "      <td>14.733458</td>\n",
       "      <td>12.095683</td>\n",
       "      <td>1.094990</td>\n",
       "      <td>0.201476</td>\n",
       "      <td>-0.443576</td>\n",
       "      <td>4.917127</td>\n",
       "      <td>9.803377</td>\n",
       "      <td>2.132777</td>\n",
       "      <td>...</td>\n",
       "      <td>94.538302</td>\n",
       "      <td>4.186128</td>\n",
       "      <td>-1.436251</td>\n",
       "      <td>47.431506</td>\n",
       "      <td>179.842211</td>\n",
       "      <td>96.013230</td>\n",
       "      <td>34.779531</td>\n",
       "      <td>179.616613</td>\n",
       "      <td>92.519113</td>\n",
       "      <td>34.017787</td>\n",
       "    </tr>\n",
       "    <tr>\n",
       "      <th>std</th>\n",
       "      <td>223.326584</td>\n",
       "      <td>0.055235</td>\n",
       "      <td>2.588850</td>\n",
       "      <td>1.759994</td>\n",
       "      <td>0.553929</td>\n",
       "      <td>0.362293</td>\n",
       "      <td>0.557924</td>\n",
       "      <td>0.751875</td>\n",
       "      <td>0.443963</td>\n",
       "      <td>0.162521</td>\n",
       "      <td>...</td>\n",
       "      <td>0.554215</td>\n",
       "      <td>0.522314</td>\n",
       "      <td>0.322432</td>\n",
       "      <td>1.108026</td>\n",
       "      <td>0.104776</td>\n",
       "      <td>0.356000</td>\n",
       "      <td>0.297902</td>\n",
       "      <td>0.229452</td>\n",
       "      <td>0.652160</td>\n",
       "      <td>0.416331</td>\n",
       "    </tr>\n",
       "    <tr>\n",
       "      <th>min</th>\n",
       "      <td>236.000000</td>\n",
       "      <td>0.388330</td>\n",
       "      <td>9.665202</td>\n",
       "      <td>8.592114</td>\n",
       "      <td>0.485009</td>\n",
       "      <td>-0.753220</td>\n",
       "      <td>-1.424023</td>\n",
       "      <td>4.000000</td>\n",
       "      <td>8.418605</td>\n",
       "      <td>1.732014</td>\n",
       "      <td>...</td>\n",
       "      <td>92.976601</td>\n",
       "      <td>2.960429</td>\n",
       "      <td>-2.614211</td>\n",
       "      <td>43.025650</td>\n",
       "      <td>179.311709</td>\n",
       "      <td>94.967741</td>\n",
       "      <td>33.772474</td>\n",
       "      <td>178.688896</td>\n",
       "      <td>90.973333</td>\n",
       "      <td>33.252522</td>\n",
       "    </tr>\n",
       "    <tr>\n",
       "      <th>25%</th>\n",
       "      <td>418.000000</td>\n",
       "      <td>0.443914</td>\n",
       "      <td>12.884653</td>\n",
       "      <td>10.691879</td>\n",
       "      <td>0.746984</td>\n",
       "      <td>-0.036309</td>\n",
       "      <td>-0.826759</td>\n",
       "      <td>4.000000</td>\n",
       "      <td>9.526718</td>\n",
       "      <td>2.001184</td>\n",
       "      <td>...</td>\n",
       "      <td>94.164121</td>\n",
       "      <td>3.783786</td>\n",
       "      <td>-1.593852</td>\n",
       "      <td>46.900515</td>\n",
       "      <td>179.788985</td>\n",
       "      <td>95.816515</td>\n",
       "      <td>34.654190</td>\n",
       "      <td>179.508070</td>\n",
       "      <td>92.055953</td>\n",
       "      <td>33.677696</td>\n",
       "    </tr>\n",
       "    <tr>\n",
       "      <th>50%</th>\n",
       "      <td>603.000000</td>\n",
       "      <td>0.481928</td>\n",
       "      <td>14.569364</td>\n",
       "      <td>12.206760</td>\n",
       "      <td>0.924739</td>\n",
       "      <td>0.209360</td>\n",
       "      <td>-0.488975</td>\n",
       "      <td>5.000000</td>\n",
       "      <td>9.912176</td>\n",
       "      <td>2.150406</td>\n",
       "      <td>...</td>\n",
       "      <td>94.638968</td>\n",
       "      <td>4.245421</td>\n",
       "      <td>-1.415860</td>\n",
       "      <td>47.560701</td>\n",
       "      <td>179.861952</td>\n",
       "      <td>96.041298</td>\n",
       "      <td>34.842113</td>\n",
       "      <td>179.662199</td>\n",
       "      <td>92.527942</td>\n",
       "      <td>33.992660</td>\n",
       "    </tr>\n",
       "    <tr>\n",
       "      <th>75%</th>\n",
       "      <td>811.000000</td>\n",
       "      <td>0.527473</td>\n",
       "      <td>16.308480</td>\n",
       "      <td>13.665481</td>\n",
       "      <td>1.205746</td>\n",
       "      <td>0.436082</td>\n",
       "      <td>-0.143967</td>\n",
       "      <td>5.000000</td>\n",
       "      <td>10.125926</td>\n",
       "      <td>2.277284</td>\n",
       "      <td>...</td>\n",
       "      <td>94.933145</td>\n",
       "      <td>4.564136</td>\n",
       "      <td>-1.247748</td>\n",
       "      <td>48.212574</td>\n",
       "      <td>179.921887</td>\n",
       "      <td>96.274933</td>\n",
       "      <td>34.993068</td>\n",
       "      <td>179.767815</td>\n",
       "      <td>92.934356</td>\n",
       "      <td>34.366748</td>\n",
       "    </tr>\n",
       "    <tr>\n",
       "      <th>max</th>\n",
       "      <td>1000.000000</td>\n",
       "      <td>0.634146</td>\n",
       "      <td>24.864477</td>\n",
       "      <td>15.550357</td>\n",
       "      <td>3.806904</td>\n",
       "      <td>1.103378</td>\n",
       "      <td>1.565156</td>\n",
       "      <td>6.000000</td>\n",
       "      <td>10.591549</td>\n",
       "      <td>2.442414</td>\n",
       "      <td>...</td>\n",
       "      <td>95.696520</td>\n",
       "      <td>5.456879</td>\n",
       "      <td>-0.630956</td>\n",
       "      <td>49.333752</td>\n",
       "      <td>179.994264</td>\n",
       "      <td>96.637302</td>\n",
       "      <td>35.238230</td>\n",
       "      <td>179.988261</td>\n",
       "      <td>94.560597</td>\n",
       "      <td>35.035268</td>\n",
       "    </tr>\n",
       "  </tbody>\n",
       "</table>\n",
       "<p>8 rows × 38 columns</p>\n",
       "</div>"
      ],
      "text/plain": [
       "           N_total  N_shell/N_total       R_max       R_avg       R_std  \\\n",
       "count   181.000000       181.000000  181.000000  181.000000  181.000000   \n",
       "mean    608.602210         0.486097   14.733458   12.095683    1.094990   \n",
       "std     223.326584         0.055235    2.588850    1.759994    0.553929   \n",
       "min     236.000000         0.388330    9.665202    8.592114    0.485009   \n",
       "25%     418.000000         0.443914   12.884653   10.691879    0.746984   \n",
       "50%     603.000000         0.481928   14.569364   12.206760    0.924739   \n",
       "75%     811.000000         0.527473   16.308480   13.665481    1.205746   \n",
       "max    1000.000000         0.634146   24.864477   15.550357    3.806904   \n",
       "\n",
       "           R_skew      R_kurt      CN_min      CN_avg      CN_std  ...  \\\n",
       "count  181.000000  181.000000  181.000000  181.000000  181.000000  ...   \n",
       "mean     0.201476   -0.443576    4.917127    9.803377    2.132777  ...   \n",
       "std      0.362293    0.557924    0.751875    0.443963    0.162521  ...   \n",
       "min     -0.753220   -1.424023    4.000000    8.418605    1.732014  ...   \n",
       "25%     -0.036309   -0.826759    4.000000    9.526718    2.001184  ...   \n",
       "50%      0.209360   -0.488975    5.000000    9.912176    2.150406  ...   \n",
       "75%      0.436082   -0.143967    5.000000   10.125926    2.277284  ...   \n",
       "max      1.103378    1.565156    6.000000   10.591549    2.442414  ...   \n",
       "\n",
       "          ABA_avg     ABA_std    ABA_skew      BA_min      BA_max      BA_avg  \\\n",
       "count  181.000000  181.000000  181.000000  181.000000  181.000000  181.000000   \n",
       "mean    94.538302    4.186128   -1.436251   47.431506  179.842211   96.013230   \n",
       "std      0.554215    0.522314    0.322432    1.108026    0.104776    0.356000   \n",
       "min     92.976601    2.960429   -2.614211   43.025650  179.311709   94.967741   \n",
       "25%     94.164121    3.783786   -1.593852   46.900515  179.788985   95.816515   \n",
       "50%     94.638968    4.245421   -1.415860   47.560701  179.861952   96.041298   \n",
       "75%     94.933145    4.564136   -1.247748   48.212574  179.921887   96.274933   \n",
       "max     95.696520    5.456879   -0.630956   49.333752  179.994264   96.637302   \n",
       "\n",
       "           BA_std     SBA_max     SBA_avg     SBA_std  \n",
       "count  181.000000  181.000000  181.000000  181.000000  \n",
       "mean    34.779531  179.616613   92.519113   34.017787  \n",
       "std      0.297902    0.229452    0.652160    0.416331  \n",
       "min     33.772474  178.688896   90.973333   33.252522  \n",
       "25%     34.654190  179.508070   92.055953   33.677696  \n",
       "50%     34.842113  179.662199   92.527942   33.992660  \n",
       "75%     34.993068  179.767815   92.934356   34.366748  \n",
       "max     35.238230  179.988261   94.560597   35.035268  \n",
       "\n",
       "[8 rows x 38 columns]"
      ]
     },
     "execution_count": 2,
     "metadata": {},
     "output_type": "execute_result"
    }
   ],
   "source": [
    "X_df = pd.read_csv('../data/extracted_features-thermo.csv')\n",
    "\n",
    "# Select training features by dropping excess target labels and other unused features\n",
    "X_features = X_df.drop(['ID','Mermin_E', 'Delta_E', 'Delta_E/N', 'Fermi_L', 'CN_max', 'Classical_E/N', 'Classical_E'], axis=1)\n",
    "\n",
    "# Select target label\n",
    "target_label = 'Delta_E'\n",
    "y_label = X_df[target_label]\n",
    "\n",
    "# Remove correlated features as found using the data science notebook\n",
    "X_feats = X_features.drop([\n",
    "    # N_total and R_avg kept as it improves results\n",
    "    'R_min', # for correlation with N_shell/N_total\n",
    "    'SCN_min', # for correlation with CN_min\n",
    "    'SCN_avg', 'ABL_avg', 'BL_avg', # for correlation with CN_avg\n",
    "    'SBL_min', 'SBL_max', 'SBL_avg', 'SBL_std', 'SBL_skew', 'SBL_kurt', # for correlation with BL\n",
    "    'ABA_kurt', # For correlation with ABA_skew\n",
    "    'BA_kurt', # For correlation with BA_std and BA_skew\n",
    "    'SBA_min', # For correlation with BA_min\n",
    "    'BA_skew', # for correlation with SBA_kurt\n",
    "    'SBA_skew', 'SBA_kurt' # For correlation with BA_skew, BA_kurt etc\n",
    "], axis=1)\n",
    "\n",
    "X_feats.describe()"
   ]
  },
  {
   "cell_type": "markdown",
   "metadata": {},
   "source": [
    "## Scale the feature set"
   ]
  },
  {
   "cell_type": "code",
   "execution_count": 3,
   "metadata": {},
   "outputs": [],
   "source": [
    "X_scaled = RobustScaler().fit_transform(X_feats)"
   ]
  },
  {
   "cell_type": "markdown",
   "metadata": {},
   "source": [
    "## Splitting the testing set and training set"
   ]
  },
  {
   "cell_type": "code",
   "execution_count": 4,
   "metadata": {},
   "outputs": [],
   "source": [
    "y_label = np.array(y_label).reshape(-1,1)\n",
    "X_train, X_test, y_train, y_test = train_test_split(X_scaled, y_label, test_size=0.20, random_state=42)"
   ]
  },
  {
   "cell_type": "markdown",
   "metadata": {},
   "source": [
    "## Decision Tree Regressor"
   ]
  },
  {
   "cell_type": "markdown",
   "metadata": {},
   "source": [
    "We will now train a decision tree regressor to identify the important features. We will first find the optimal hyper-parameters using a randomized search."
   ]
  },
  {
   "cell_type": "code",
   "execution_count": 5,
   "metadata": {},
   "outputs": [
    {
     "name": "stdout",
     "output_type": "stream",
     "text": [
      "Training time: 177.22892594337463s\n"
     ]
    },
    {
     "data": {
      "text/plain": [
       "{'criterion': 'friedman_mse',\n",
       " 'max_depth': 6,\n",
       " 'max_features': None,\n",
       " 'min_samples_leaf': 3,\n",
       " 'min_samples_split': 2,\n",
       " 'splitter': 'best'}"
      ]
     },
     "execution_count": 5,
     "metadata": {},
     "output_type": "execute_result"
    }
   ],
   "source": [
    "param_dist = dict(min_samples_split=stats.randint(2, 20),\n",
    "                  min_samples_leaf=stats.randint(2, 20),\n",
    "                  max_depth=stats.randint(1, 15),\n",
    "                  criterion=['mae', 'friedman_mse','mse'],\n",
    "                  max_features= [None, 'auto','sqrt','log2'],\n",
    "                  splitter=['best','random']\n",
    "                 )\n",
    "\n",
    "model = DecisionTreeRegressor(max_leaf_nodes=None, random_state=42)\n",
    "\n",
    "start = time.time()\n",
    "reg = RandomizedSearchCV(model, param_dist, cv=10, n_iter=5000, random_state=42)\n",
    "reg.fit(X_train, y_train)\n",
    "stop = time.time()\n",
    "\n",
    "print(f\"Training time: {stop - start}s\")\n",
    "\n",
    "reg.best_params_"
   ]
  },
  {
   "cell_type": "markdown",
   "metadata": {},
   "source": [
    "These are the best combination of hyper-parameters that could be found, and will now be used to train the decision tree regressor"
   ]
  },
  {
   "cell_type": "code",
   "execution_count": 6,
   "metadata": {},
   "outputs": [
    {
     "name": "stdout",
     "output_type": "stream",
     "text": [
      "Training score: 0.997506\n",
      "CV Accuracy: 0.990403 +/- 0.015273\n",
      "Testing score: 0.984678\n",
      "Training time: 0.03989434242248535s\n"
     ]
    }
   ],
   "source": [
    "model_DTR = DecisionTreeRegressor(random_state=42, max_leaf_nodes=None, \n",
    "                                  criterion='friedman_mse', splitter='best',\n",
    "                                  max_depth=6, max_features=None,\n",
    "                                  min_samples_leaf=3,min_samples_split=2)\n",
    "\n",
    "start = time.time()\n",
    "model_DTR.fit(X_train, y_train)\n",
    "\n",
    "CV_scores = []\n",
    "kf = KFold(n_splits=10, shuffle=False, random_state=42)\n",
    "\n",
    "for cv_train_index, cv_test_index in kf.split(X_train, y_train):\n",
    "    X_train_cv = X_train[cv_train_index, :]\n",
    "    X_test_cv = X_train[cv_test_index, :]\n",
    "    y_train_cv = y_train[cv_train_index]\n",
    "    y_test_cv = y_train[cv_test_index]\n",
    "    \n",
    "    # fit model to training dataset\n",
    "    model_DTR.fit(X_train_cv, y_train_cv)\n",
    "    CV_scores.append(model_DTR.score(X_test_cv, y_test_cv))\n",
    "    \n",
    "stop = time.time()\n",
    "\n",
    "accuracy = np.mean(CV_scores)\n",
    "uncertainty = np.std(CV_scores)*2\n",
    "training_score = model_DTR.score(X_train, y_train)\n",
    "testing_score = model_DTR.score(X_test, y_test)\n",
    "\n",
    "print('Training score:', np.round(training_score, 6))\n",
    "print('CV Accuracy:',np.round(accuracy, 6),'+/-',np.round(uncertainty, 6))\n",
    "print('Testing score:', np.round(testing_score, 6))\n",
    "print(f\"Training time: {stop - start}s\")"
   ]
  },
  {
   "cell_type": "markdown",
   "metadata": {},
   "source": [
    "### Decision tree visualization"
   ]
  },
  {
   "cell_type": "code",
   "execution_count": 7,
   "metadata": {},
   "outputs": [
    {
     "data": {
      "text/plain": [
       "'images\\\\thermo-decision-tree.png'"
      ]
     },
     "execution_count": 7,
     "metadata": {},
     "output_type": "execute_result"
    }
   ],
   "source": [
    "os.environ[\"PATH\"] += os.pathsep + 'C:/Program Files (x86)/Graphviz2.38/bin/'\n",
    "\n",
    "dot_data = tree.export_graphviz(model_DTR, out_file=None, \n",
    "                                feature_names=X_feats.columns, #revise as needed\n",
    "                                filled=True, rounded=True, special_characters=True)  \n",
    "\n",
    "graph = graphviz.Source(dot_data) \n",
    "graph.render(\"images/thermo-decision-tree\", format='png') "
   ]
  },
  {
   "cell_type": "markdown",
   "metadata": {},
   "source": [
    "### Decision tree prediction accuracy"
   ]
  },
  {
   "cell_type": "code",
   "execution_count": 8,
   "metadata": {},
   "outputs": [
    {
     "data": {
      "image/png": "[encoded data removed]",
      "text/plain": [
       "<Figure size 432x288 with 1 Axes>"
      ]
     },
     "metadata": {
      "needs_background": "light"
     },
     "output_type": "display_data"
    }
   ],
   "source": [
    "domain = [0,550]\n",
    "\n",
    "plot_test_train(y_train, y_test, model_DTR.predict(X_test), model_DTR.predict(X_train), range_set=False, range_x=domain, range_y=domain, \n",
    "             tag='_Train', mod='MLP', axis_label='energy difference (eV)')\n",
    "plt.savefig(\"images/thermo_45degree_plot_decision_tree.jpg\", dpi=600, bbox_inches='tight')\n",
    "plt.show()"
   ]
  },
  {
   "cell_type": "markdown",
   "metadata": {},
   "source": [
    "### Decision tree learning curve"
   ]
  },
  {
   "cell_type": "code",
   "execution_count": 9,
   "metadata": {},
   "outputs": [
    {
     "name": "stdout",
     "output_type": "stream",
     "text": [
      "Training time: 6.054511070251465s\n"
     ]
    },
    {
     "data": {
      "image/png": "[encoded data removed]",
      "text/plain": [
       "<Figure size 432x288 with 1 Axes>"
      ]
     },
     "metadata": {
      "needs_background": "light"
     },
     "output_type": "display_data"
    }
   ],
   "source": [
    "title = \"\"\n",
    "estimator = model_DTR\n",
    "\n",
    "start= time.time()\n",
    "plot_learning_curve(estimator, title, X_train, y_train, \\\n",
    "                    ylim=(0.5, 1.005), cv=10, n_jobs=-1, train_sizes=np.linspace(0.1, 1.0, 10))\n",
    "stop = time.time()\n",
    "print(f\"Training time: {stop - start}s\")\n",
    "plt.savefig(\"images/thermo-decision_tree_learning_curve.jpg\", dpi=600, bbox_inches='tight')\n",
    "plt.show()"
   ]
  },
  {
   "cell_type": "markdown",
   "metadata": {},
   "source": [
    "### Feature importance profile"
   ]
  },
  {
   "cell_type": "code",
   "execution_count": 10,
   "metadata": {},
   "outputs": [
    {
     "data": {
      "image/png": "[encoded data removed]",
      "text/plain": [
       "<Figure size 576x288 with 1 Axes>"
      ]
     },
     "metadata": {
      "needs_background": "light"
     },
     "output_type": "display_data"
    },
    {
     "name": "stdout",
     "output_type": "stream",
     "text": [
      "The important features are: ['N_total', 'R_avg', 'N_shell/N_total']\n"
     ]
    }
   ],
   "source": [
    "X_feats.columns =(list(X_feats.columns.values) )\n",
    "plot_feature_importance(\n",
    "    X_feats.columns, \n",
    "    model_DTR.feature_importances_,\n",
    "    show_cols = 42\n",
    ")\n",
    "plt.tight_layout()\n",
    "plt.subplots_adjust(bottom=0.2)\n",
    "plt.savefig(\"images/thermo-feature_importance_profile\", dpi=600, bbox_inches='tight')\n",
    "plt.show()\n",
    "important_features = get_important_features(X_feats.columns, model_DTR.feature_importances_, cutoff = 0.002)\n",
    "print(\"The important features are:\",important_features)"
   ]
  },
  {
   "cell_type": "markdown",
   "metadata": {},
   "source": [
    "## ANN Regressor"
   ]
  },
  {
   "cell_type": "markdown",
   "metadata": {},
   "source": [
    "Now we will train an artificial neural network (ANN).  We will use a Multilayer Perceptron.  \n",
    "\n",
    "We will use the important features identified using the decision tree above and redo the test train split using the raw features rather than the scaled features."
   ]
  },
  {
   "cell_type": "code",
   "execution_count": 11,
   "metadata": {},
   "outputs": [],
   "source": [
    "important_headers = important_features\n",
    "Reduced_X_feats = X_feats [important_headers]\n",
    "X_train, X_test, y_train, y_test = train_test_split(Reduced_X_feats, y_label, test_size=0.25, random_state=42)\n",
    "X_train = np.array(X_train)"
   ]
  },
  {
   "cell_type": "markdown",
   "metadata": {},
   "source": [
    "Once again we will optimise the hyper-parameters, selecting from a large number of layer (0 to 3) and neuron (3 to 10) configurations."
   ]
  },
  {
   "cell_type": "code",
   "execution_count": 12,
   "metadata": {},
   "outputs": [
    {
     "name": "stdout",
     "output_type": "stream",
     "text": [
      "Training time: 2117.918188095093s\n"
     ]
    },
    {
     "data": {
      "text/plain": [
       "{'activation': 'identity',\n",
       " 'alpha': 0.0774263682681127,\n",
       " 'hidden_layer_sizes': (6, 5, 3),\n",
       " 'learning_rate': 'constant',\n",
       " 'max_iter': 959,\n",
       " 'solver': 'lbfgs'}"
      ]
     },
     "execution_count": 12,
     "metadata": {},
     "output_type": "execute_result"
    }
   ],
   "source": [
    "param_dist = dict(activation=[\"identity\"], #, \"tanh\", \"relu\", \"logistic\"],\n",
    "                  alpha=np.logspace(-2, 2, num=10, base=10),\n",
    "                  learning_rate=[\"adaptive\",\"invscaling\",\"constant\"],\n",
    "                  solver=[\"lbfgs\"], # \"sgd\",\n",
    "                  max_iter=stats.randint(50, 1000),\n",
    "                  hidden_layer_sizes=[(),(1,),(2,),(3,),(4,),(5,),(6,),(7,),(8,),(9,),(10,),(3,2),(4,2,),(5,2,),(6,2,),(7,2,),\n",
    "                                      (8,2,),(9,2,),(10,2,),(4,3,),(5,3,),(6,3,),(7,3,),(8,3,),(9,3,),(10,3,),\n",
    "                                      (5,4,),(6,4,),(7,4,),(8,4,),(9,4,),(10,4,),(6,5,),(7,5,),(8,5,),(9,5,),(10,5,),\n",
    "                                      (7,6,),(8,6,),(9,6,),(10,6,),(8,7,),(9,7,),(10,7,),(9,8,),(10,8,),(10,9,),\n",
    "                                      (4,3,2),(5,3,2),(6,3,2),(7,3,2),(8,3,2),(9,3,2),(10,3,2),(5,4,2),(6,4,2),(7,4,2),\n",
    "                                      (8,4,2),(9,4,2),(10,4,2),(6,5,2),(7,5,2),(8,5,2),(9,5,2),(10,5,2),(5,4,3),(6,4,3),\n",
    "                                      (7,4,3),(8,4,3),(9,4,3),(10,4,3),(6,5,3),(7,5,3),(8,5,3),(9,5,3),(10,5,3), \n",
    "                                      (6,6,2),(7,6,2),(8,6,2),(9,6,2),(10,6,2),(8,7,2),(9,7,2),(10,7,2),\n",
    "                                      (9,8,2),(10,8,2),(10,9,2),(7,6,3),(8,6,3),(9,6,3),(10,6,3),(8,7,3),\n",
    "                                      (9,7,3),(10,7,3),(9,8,3),(10,8,3),(10,9,3),(7,6,4),(8,6,4),(9,6,4),\n",
    "                                      (10,6,4),(8,7,4),(9,7,4),(10,7,4),(9,8,4),(10,8,4),(10,9,4)]\n",
    "                 )\n",
    "                  \n",
    "model = MLPRegressor(early_stopping=True, random_state=42, activation='identity') # activation='identity' hidden_layer_sizes=()\n",
    "\n",
    "start=time.time()\n",
    "ann = RandomizedSearchCV(model, param_dist, cv=5, n_iter=1000, random_state=42)\n",
    "ann.fit(X_train, y_train)\n",
    "stop=time.time()\n",
    "\n",
    "print(f\"Training time: {stop - start}s\")\n",
    "ann.best_params_"
   ]
  },
  {
   "cell_type": "markdown",
   "metadata": {},
   "source": [
    "We will now train the neural network using both the optimal set of hyperparameters and no hidden layers to show they are very similar"
   ]
  },
  {
   "cell_type": "code",
   "execution_count": 13,
   "metadata": {},
   "outputs": [
    {
     "name": "stdout",
     "output_type": "stream",
     "text": [
      "With optimal hyperparameters:\n",
      "Training score: 0.998625\n",
      "CV Scores: [0.998888 0.996451 0.998146 0.998497 0.998134 0.998528 0.998098 0.999104\n",
      " 0.996228 0.999004]\n",
      "CV Accuracy: 0.998108 +/- 0.001898\n",
      "Testing score: 0.997723\n",
      "Training time: 3.765683889389038s\n",
      "\n",
      "With no hidden layers:\n",
      "Training score: 0.998098\n",
      "CV Scores: [0.999015 0.998197 0.997302 0.997946 0.997835 0.998531 0.998182 0.999064\n",
      " 0.99291  0.998373]\n",
      "CV Accuracy: 0.997735 +/- 0.003369\n",
      "Testing score: 0.997296\n",
      "Training time: 0.10870814323425293s\n"
     ]
    }
   ],
   "source": [
    "model_MLP = MLPRegressor(activation='identity', alpha= 0.0774263682681127, hidden_layer_sizes=(6,5,3),\n",
    "                                   learning_rate='constant',max_iter=959,solver='lbfgs', random_state=42)\n",
    "model_MLP_No_Hidden_layers = MLPRegressor(activation='identity', alpha= 0.0774263682681127, hidden_layer_sizes=(),\n",
    "                                   learning_rate='constant',max_iter=959,solver='lbfgs', random_state=42)\n",
    "\n",
    "\n",
    "start=time.time()\n",
    "model_MLP.fit(X_train, y_train)\n",
    "\n",
    "CV_scores = []\n",
    "kf = KFold(n_splits=10, shuffle=False, random_state=42)\n",
    "\n",
    "for cv_train_index, cv_test_index in kf.split(X_train, y_train):\n",
    "    X_train_cv = X_train[cv_train_index, :]\n",
    "    X_test_cv = X_train[cv_test_index, :]\n",
    "    y_train_cv = y_train[cv_train_index]\n",
    "    y_test_cv = y_train[cv_test_index]\n",
    "    \n",
    "    # fit model to training dataset\n",
    "    model_MLP.fit(X_train_cv, y_train_cv)\n",
    "    CV_scores.append(model_MLP.score(X_test_cv, y_test_cv))\n",
    "\n",
    "stop=time.time()\n",
    "\n",
    "accuracy = np.mean(CV_scores)\n",
    "uncertainty = np.std(CV_scores)*2\n",
    "training_score = model_MLP.score(X_train, y_train)\n",
    "testing_score = model_MLP.score(X_test, y_test)\n",
    "\n",
    "print(\"With optimal hyperparameters:\")\n",
    "print('Training score:', np.round(training_score, 6))\n",
    "print('CV Scores:', np.round(CV_scores, 6))\n",
    "print('CV Accuracy:',np.round(accuracy, 6),'+/-',np.round(uncertainty, 6))\n",
    "print('Testing score:', np.round(testing_score, 6))\n",
    "print(f\"Training time: {stop - start}s\\n\")\n",
    "\n",
    "start=time.time()\n",
    "model_MLP_No_Hidden_layers.fit(X_train, y_train)\n",
    "\n",
    "CV_scores = []\n",
    "kf = KFold(n_splits=10, shuffle=False, random_state=42)\n",
    "\n",
    "for cv_train_index, cv_test_index in kf.split(X_train, y_train):\n",
    "    X_train_cv = X_train[cv_train_index, :]\n",
    "    X_test_cv = X_train[cv_test_index, :]\n",
    "    y_train_cv = y_train[cv_train_index]\n",
    "    y_test_cv = y_train[cv_test_index]\n",
    "    \n",
    "    # fit model to training dataset\n",
    "    model_MLP_No_Hidden_layers.fit(X_train_cv, y_train_cv)\n",
    "    CV_scores.append(model_MLP_No_Hidden_layers.score(X_test_cv, y_test_cv))\n",
    "\n",
    "stop=time.time()\n",
    "\n",
    "accuracy = np.mean(CV_scores)\n",
    "uncertainty = np.std(CV_scores)*2\n",
    "training_score = model_MLP_No_Hidden_layers.score(X_train, y_train)\n",
    "testing_score = model_MLP_No_Hidden_layers.score(X_test, y_test)\n",
    "\n",
    "print(\"With no hidden layers:\")\n",
    "print('Training score:', np.round(training_score, 6))\n",
    "print('CV Scores:', np.round(CV_scores, 6))\n",
    "print('CV Accuracy:',np.round(accuracy, 6),'+/-',np.round(uncertainty, 6))\n",
    "print('Testing score:', np.round(testing_score, 6))\n",
    "print(f\"Training time: {stop - start}s\")"
   ]
  },
  {
   "cell_type": "markdown",
   "metadata": {},
   "source": [
    "### ANN prediction accuracy"
   ]
  },
  {
   "cell_type": "code",
   "execution_count": 14,
   "metadata": {},
   "outputs": [
    {
     "data": {
      "image/png": "[encoded data removed]",
      "text/plain": [
       "<Figure size 432x288 with 1 Axes>"
      ]
     },
     "metadata": {
      "needs_background": "light"
     },
     "output_type": "display_data"
    }
   ],
   "source": [
    "domain = [0, 550]\n",
    "\n",
    "plot_test_train(y_train, y_test, model_MLP_No_Hidden_layers.predict(X_test), model_MLP_No_Hidden_layers.predict(X_train), range_set=False, range_x=domain, range_y=domain, \n",
    "             tag='_Train', mod='MLP', axis_label='energy difference (eV)')\n",
    "plt.savefig(\"images/thermo-45degree_plot.jpg\", dpi=600, bbox_inches='tight')\n",
    "plt.show()"
   ]
  },
  {
   "cell_type": "markdown",
   "metadata": {},
   "source": [
    "### ANN Learning curve"
   ]
  },
  {
   "cell_type": "code",
   "execution_count": 15,
   "metadata": {
    "scrolled": true
   },
   "outputs": [
    {
     "data": {
      "image/png": "[encoded data removed]",
      "text/plain": [
       "<Figure size 432x288 with 1 Axes>"
      ]
     },
     "metadata": {
      "needs_background": "light"
     },
     "output_type": "display_data"
    }
   ],
   "source": [
    "title=\"\"\n",
    "estimator = model_MLP_No_Hidden_layers\n",
    "plot_learning_curve(estimator, title, X_train, y_train, \\\n",
    "                    ylim=(0.5, 1.005), cv=10, n_jobs=-1, train_sizes=np.linspace(0.1, 1.0, 10))\n",
    "plt.savefig(f'images/thermo-LearningCurve_MLP.png', dpi = 600, bbox_inches='tight')\n",
    "plt.show()"
   ]
  },
  {
   "cell_type": "markdown",
   "metadata": {},
   "source": [
    "### ANN analytic expression"
   ]
  },
  {
   "cell_type": "code",
   "execution_count": 16,
   "metadata": {},
   "outputs": [
    {
     "name": "stdout",
     "output_type": "stream",
     "text": [
      "Weights: \n",
      "0 0 [  0.3905649  -13.72812109 -58.28900166], \n",
      "\n",
      "Biases: \n",
      "[116.97899355]\n",
      "\n",
      "Final equation from neural network:\n",
      "0.3906*N_total + -13.7281*R_avg + -58.289*N_shell/N_total + 116.979\n"
     ]
    }
   ],
   "source": [
    "print (\"Weights: \")\n",
    "for i in range(len(model_MLP_No_Hidden_layers.coefs_)):\n",
    "    number_neurons_in_layer = model_MLP_No_Hidden_layers.coefs_[i].shape[1]\n",
    "    for j in range(number_neurons_in_layer):\n",
    "        weights = model_MLP_No_Hidden_layers.coefs_[i][:,j]\n",
    "        print(i, j, weights, end=\", \")\n",
    "        print()\n",
    "    print()\n",
    "\n",
    "print (\"Biases: \")    \n",
    "for i in range(len(model_MLP_No_Hidden_layers.coefs_)):\n",
    "    print(model_MLP_No_Hidden_layers.intercepts_[i])\n",
    "    print()\n",
    "\n",
    "if(len(model_MLP_No_Hidden_layers.coefs_) == 1):\n",
    "    print(\"Final equation from neural network:\")\n",
    "    for i in range(len(important_headers)):\n",
    "        print(str(round(model_MLP_No_Hidden_layers.coefs_[0][:,0][i],4))+\"*\"+str(important_headers[i]), end=\" + \")\n",
    "    print(round(model_MLP_No_Hidden_layers.intercepts_[0][0],3))"
   ]
  },
  {
   "cell_type": "markdown",
   "metadata": {},
   "source": [
    "# Linear Regression Model\n",
    "\n",
    "Since the neural network performed optimally with the identity activation function and no hidden layers. This is equivalent to a linear regression so instead of using the neural network described above, a linear regression will now be tested on the dataset"
   ]
  },
  {
   "cell_type": "code",
   "execution_count": 17,
   "metadata": {},
   "outputs": [
    {
     "name": "stdout",
     "output_type": "stream",
     "text": [
      "Training score: 0.998627\n",
      "Testing score: 0.99768\n",
      "Training time: 0.0029914379119873047s\n"
     ]
    }
   ],
   "source": [
    "start=time.time()\n",
    "linear_reg_model = LinearRegression().fit(X_train, y_train)\n",
    "stop=time.time()\n",
    "\n",
    "training_score = linear_reg_model.score(X_train, y_train)\n",
    "testing_score = linear_reg_model.score(X_test, y_test)\n",
    "\n",
    "print('Training score:', np.round(training_score, 6))\n",
    "print('Testing score:', np.round(testing_score, 6))\n",
    "print(f\"Training time: {stop - start}s\")\n"
   ]
  },
  {
   "cell_type": "code",
   "execution_count": 18,
   "metadata": {},
   "outputs": [
    {
     "data": {
      "image/png": "[encoded data removed]",
      "text/plain": [
       "<Figure size 432x288 with 1 Axes>"
      ]
     },
     "metadata": {
      "needs_background": "light"
     },
     "output_type": "display_data"
    }
   ],
   "source": [
    "domain = [0, 550]\n",
    "\n",
    "plot_test_train(y_train, y_test, linear_reg_model.predict(X_test), linear_reg_model.predict(X_train), range_set=False, range_x=domain, range_y=domain, \n",
    "             tag='_Train', mod='MLP', axis_label='energy difference (eV)')\n",
    "plt.savefig(\"images/thermo-45degree_plot_linear_regression.jpg\", dpi=600, bbox_inches='tight')\n",
    "plt.show()"
   ]
  },
  {
   "cell_type": "code",
   "execution_count": 19,
   "metadata": {},
   "outputs": [
    {
     "name": "stdout",
     "output_type": "stream",
     "text": [
      "Final equation from linear regression:\n",
      "0.3742*N_total + -13.4545*R_avg + -123.5011*N_shell/N_total + 155.29\n"
     ]
    }
   ],
   "source": [
    "print(\"Final equation from linear regression:\")\n",
    "for i in range(len(important_headers)):\n",
    "    print(str(round(linear_reg_model.coef_[0][i],4))+\"*\"+str(important_headers[i]), end=\" + \")\n",
    "print(round(linear_reg_model.intercept_[0],3))"
   ]
  },
  {
   "cell_type": "code",
   "execution_count": null,
   "metadata": {},
   "outputs": [],
   "source": []
  }
 ],
 "metadata": {
  "kernelspec": {
   "display_name": "Python 3",
   "language": "python",
   "name": "python3"
  },
  "language_info": {
   "codemirror_mode": {
    "name": "ipython",
    "version": 3
   },
   "file_extension": ".py",
   "mimetype": "text/x-python",
   "name": "python",
   "nbconvert_exporter": "python",
   "pygments_lexer": "ipython3",
   "version": "3.7.3"
  }
 },
 "nbformat": 4,
 "nbformat_minor": 2
}
